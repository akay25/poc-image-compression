{
 "cells": [
  {
   "cell_type": "code",
   "execution_count": null,
   "metadata": {},
   "outputs": [],
   "source": [
    "import tensorflow.keras.layers\n",
    "import tensorflow.keras.models\n",
    "import matplotlib.pyplot as plt\n",
    "import tensorflow.keras.datasets\n",
    "import tensorflow.keras.optimizers \n",
    "import numpy\n",
    "from timeit import default_timer as timer\n",
    "from keras.preprocessing.image import load_img \n",
    "import warnings \n",
    "from keras.preprocessing.image import img_to_array \n",
    "from keras.preprocessing.image import array_to_img "
   ]
  },
  {
   "cell_type": "code",
   "execution_count": null,
   "metadata": {},
   "outputs": [],
   "source": [
    "def get_size(np):\n",
    "    return np.size * np.itemsize"
   ]
  },
  {
   "cell_type": "code",
   "execution_count": null,
   "metadata": {},
   "outputs": [],
   "source": [
    "x = tensorflow.keras.layers.Input(shape=(784), name=\"encoder_input\")\n",
    "\n",
    "encoder_dense_layer1 = tensorflow.keras.layers.Dense(units=300, name=\"encoder_dense_1\")(x)\n",
    "encoder_activ_layer1 = tensorflow.keras.layers.LeakyReLU(name=\"encoder_leakyrelu_1\")(encoder_dense_layer1)\n",
    "\n",
    "encoder_dense_layer2 = tensorflow.keras.layers.Dense(units=8, name=\"encoder_dense_2\")(encoder_activ_layer1)\n",
    "encoder_output = tensorflow.keras.layers.LeakyReLU(name=\"encoder_output\")(encoder_dense_layer2)\n",
    "\n",
    "encoder = tensorflow.keras.models.Model(x, encoder_output, name=\"encoder_model\")"
   ]
  },
  {
   "cell_type": "code",
   "execution_count": null,
   "metadata": {},
   "outputs": [],
   "source": [
    "decoder_input = tensorflow.keras.layers.Input(shape=(8), name=\"decoder_input\")\n",
    "\n",
    "decoder_dense_layer1 = tensorflow.keras.layers.Dense(units=300, name=\"decoder_dense_1\")(decoder_input)\n",
    "decoder_activ_layer1 = tensorflow.keras.layers.LeakyReLU(name=\"decoder_leakyrelu_1\")(decoder_dense_layer1)\n",
    "\n",
    "decoder_dense_layer2 = tensorflow.keras.layers.Dense(units=784, name=\"decoder_dense_2\")(decoder_activ_layer1)\n",
    "decoder_output = tensorflow.keras.layers.LeakyReLU(name=\"decoder_output\")(decoder_dense_layer2)\n",
    "\n",
    "decoder = tensorflow.keras.models.Model(decoder_input, decoder_output, name=\"decoder_model\")"
   ]
  },
  {
   "cell_type": "code",
   "execution_count": null,
   "metadata": {},
   "outputs": [],
   "source": [
    "ae_input = tensorflow.keras.layers.Input(shape=(784), name=\"AE_input\")\n",
    "ae_encoder_output = encoder(ae_input)\n",
    "ae_decoder_output = decoder(ae_encoder_output)\n",
    "\n",
    "ae = tensorflow.keras.models.Model(ae_input, ae_decoder_output, name=\"AE\")"
   ]
  },
  {
   "cell_type": "code",
   "execution_count": null,
   "metadata": {},
   "outputs": [],
   "source": [
    "\n",
    "\n",
    "(x_train_orig, y_train), (x_test_orig, y_test) = tensorflow.keras.datasets.mnist.load_data()\n",
    "x_train_orig = x_train_orig.astype(\"float32\") / 255.0\n",
    "x_test_orig = x_test_orig.astype(\"float32\") / 255.0\n",
    "\n",
    "x_train = numpy.reshape(x_train_orig, newshape=(x_train_orig.shape[0], numpy.prod(x_train_orig.shape[1:])))\n",
    "x_test = numpy.reshape(x_test_orig, newshape=(x_test_orig.shape[0], numpy.prod(x_test_orig.shape[1:])))"
   ]
  },
  {
   "cell_type": "code",
   "execution_count": null,
   "metadata": {},
   "outputs": [],
   "source": [
    "ae.fit(x_train, x_train, epochs=120, batch_size=256, shuffle=True, validation_data=(x_test, x_test))"
   ]
  },
  {
   "cell_type": "code",
   "execution_count": null,
   "metadata": {},
   "outputs": [],
   "source": [
    "encoded_images = encoder.predict(x_train)\n",
    "decoded_images = decoder.predict(encoded_images)\n",
    "\n",
    "decoded_images_orig = numpy.reshape(decoded_images, newshape=(decoded_images.shape[0], 28, 28))"
   ]
  },
  {
   "cell_type": "code",
   "execution_count": null,
   "metadata": {},
   "outputs": [],
   "source": [
    "def plot_image(random_number):\n",
    "    plt.subplot(num_images_to_show, 2, 1)\n",
    "    plt.imshow(x_train_orig[random_number, :, :], cmap=\"gray\")\n",
    "    plt.subplot(num_images_to_show, 2, 2)\n",
    "    plt.imshow(decoded_images_orig[random_number, :, :], cmap=\"gray\")\n",
    "    print(f\"Original =>{get_size(x_train_orig[random_number, :, :])}\")\n",
    "    print(f\"Encoded =>{get_size(encoded_images[random_number])}\")"
   ]
  },
  {
   "cell_type": "code",
   "execution_count": null,
   "metadata": {},
   "outputs": [],
   "source": [
    "def generate_image(encoded_image):\n",
    "    start = timer()\n",
    "    decoded_image = decoder.predict([encoded_image])\n",
    "    decoded_image_orig = numpy.reshape(decoded_image, newshape=(decoded_image.shape[0], 28, 28))\n",
    "    plt.subplot(num_images_to_show, 2, 1)\n",
    "    plt.imshow(decoded_image_orig[0, :, :], cmap=\"gray\")\n",
    "    end = timer()\n",
    "    print(f\"Time taken to decompress => {end - start} secs\")"
   ]
  },
  {
   "cell_type": "code",
   "execution_count": null,
   "metadata": {},
   "outputs": [],
   "source": [
    "plot_image(12)"
   ]
  },
  {
   "cell_type": "code",
   "execution_count": null,
   "metadata": {},
   "outputs": [],
   "source": [
    "generate_image([encoded_images[215]])"
   ]
  },
  {
   "cell_type": "code",
   "execution_count": null,
   "metadata": {},
   "outputs": [],
   "source": [
    "ae.save(\"mnist-numbers\")"
   ]
  }
 ],
 "metadata": {
  "kernelspec": {
   "display_name": "Python 3",
   "language": "python",
   "name": "python3"
  },
  "language_info": {
   "codemirror_mode": {
    "name": "ipython",
    "version": 3
   },
   "file_extension": ".py",
   "mimetype": "text/x-python",
   "name": "python",
   "nbconvert_exporter": "python",
   "pygments_lexer": "ipython3",
   "version": "3.8.3"
  }
 },
 "nbformat": 4,
 "nbformat_minor": 4
}
