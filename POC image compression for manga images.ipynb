{
 "cells": [
  {
   "cell_type": "code",
   "execution_count": 17,
   "metadata": {},
   "outputs": [],
   "source": [
    "import tensorflow.keras.layers\n",
    "import tensorflow.keras.models\n",
    "import matplotlib.pyplot as plt\n",
    "import tensorflow.keras.datasets\n",
    "import tensorflow.keras.optimizers \n",
    "from os import walk\n",
    "import numpy\n",
    "from timeit import default_timer as timer\n",
    "from keras.preprocessing.image import load_img \n",
    "import warnings \n",
    "from keras.preprocessing.image import img_to_array \n",
    "from keras.preprocessing.image import array_to_img "
   ]
  },
  {
   "cell_type": "code",
   "execution_count": 3,
   "metadata": {},
   "outputs": [],
   "source": [
    "def get_size(np):\n",
    "    return np.size * np.itemsize"
   ]
  },
  {
   "cell_type": "code",
   "execution_count": null,
   "metadata": {},
   "outputs": [],
   "source": [
    "### Loading manga images in the memory\n",
    "IMAGE_PATH = \"./mangas/\"\n",
    "images = []\n",
    "for (dirpath, dirnames, filenames) in walk(IMAGE_PATH):\n",
    "    images.extend(filenames)\n",
    "    break\n",
    "\n",
    "mangas = []\n",
    "for img in images:\n",
    "    img_path = f\"{IMAGE_PATH}{img}\"\n",
    "    img_data = load_img(img_path)\n",
    "    mangas.append(img_to_array(img_data))"
   ]
  },
  {
   "cell_type": "code",
   "execution_count": 15,
   "metadata": {},
   "outputs": [],
   "source": []
  },
  {
   "cell_type": "code",
   "execution_count": 23,
   "metadata": {},
   "outputs": [
    {
     "name": "stdout",
     "output_type": "stream",
     "text": [
      "30995\n"
     ]
    }
   ],
   "source": [
    "print(len(f))\n"
   ]
  },
  {
   "cell_type": "code",
   "execution_count": 3,
   "metadata": {},
   "outputs": [
    {
     "name": "stdout",
     "output_type": "stream",
     "text": [
      "WARNING:tensorflow:From /home/ubuntu/anaconda3/envs/tensorflow_p36/lib/python3.6/site-packages/tensorflow_core/python/ops/resource_variable_ops.py:1630: calling BaseResourceVariable.__init__ (from tensorflow.python.ops.resource_variable_ops) with constraint is deprecated and will be removed in a future version.\n",
      "Instructions for updating:\n",
      "If using Keras pass *_constraint arguments to layers.\n"
     ]
    }
   ],
   "source": [
    "x = tensorflow.keras.layers.Input(shape=(784), name=\"encoder_input\")\n",
    "\n",
    "encoder_dense_layer1 = tensorflow.keras.layers.Dense(units=300, name=\"encoder_dense_1\")(x)\n",
    "encoder_activ_layer1 = tensorflow.keras.layers.LeakyReLU(name=\"encoder_leakyrelu_1\")(encoder_dense_layer1)\n",
    "\n",
    "encoder_dense_layer2 = tensorflow.keras.layers.Dense(units=8, name=\"encoder_dense_2\")(encoder_activ_layer1)\n",
    "encoder_output = tensorflow.keras.layers.LeakyReLU(name=\"encoder_output\")(encoder_dense_layer2)\n",
    "\n",
    "encoder = tensorflow.keras.models.Model(x, encoder_output, name=\"encoder_model\")"
   ]
  },
  {
   "cell_type": "code",
   "execution_count": 4,
   "metadata": {},
   "outputs": [],
   "source": [
    "decoder_input = tensorflow.keras.layers.Input(shape=(8), name=\"decoder_input\")\n",
    "\n",
    "decoder_dense_layer1 = tensorflow.keras.layers.Dense(units=300, name=\"decoder_dense_1\")(decoder_input)\n",
    "decoder_activ_layer1 = tensorflow.keras.layers.LeakyReLU(name=\"decoder_leakyrelu_1\")(decoder_dense_layer1)\n",
    "\n",
    "decoder_dense_layer2 = tensorflow.keras.layers.Dense(units=784, name=\"decoder_dense_2\")(decoder_activ_layer1)\n",
    "decoder_output = tensorflow.keras.layers.LeakyReLU(name=\"decoder_output\")(decoder_dense_layer2)\n",
    "\n",
    "decoder = tensorflow.keras.models.Model(decoder_input, decoder_output, name=\"decoder_model\")"
   ]
  },
  {
   "cell_type": "code",
   "execution_count": 8,
   "metadata": {},
   "outputs": [],
   "source": [
    "ae_input = tensorflow.keras.layers.Input(shape=(784), name=\"AE_input\")\n",
    "ae_encoder_output = encoder(ae_input)\n",
    "ae_decoder_output = decoder(ae_encoder_output)\n",
    "\n",
    "ae = tensorflow.keras.models.Model(ae_input, ae_decoder_output, name=\"AE\")\n",
    "ae.compile(loss=\"mse\", optimizer=tensorflow.keras.optimizers.Adam(lr=0.0005))"
   ]
  },
  {
   "cell_type": "code",
   "execution_count": 10,
   "metadata": {},
   "outputs": [],
   "source": [
    "(x_train_orig, y_train), (x_test_orig, y_test) = tensorflow.keras.datasets.mnist.load_data()\n",
    "x_train_orig = x_train_orig.astype(\"float32\") / 255.0\n",
    "x_test_orig = x_test_orig.astype(\"float32\") / 255.0\n",
    "\n",
    "x_train = numpy.reshape(x_train_orig, newshape=(x_train_orig.shape[0], numpy.prod(x_train_orig.shape[1:])))\n",
    "x_test = numpy.reshape(x_test_orig, newshape=(x_test_orig.shape[0], numpy.prod(x_test_orig.shape[1:])))"
   ]
  },
  {
   "cell_type": "code",
   "execution_count": 9,
   "metadata": {},
   "outputs": [
    {
     "name": "stdout",
     "output_type": "stream",
     "text": [
      "Train on 60000 samples, validate on 10000 samples\n",
      "Epoch 1/120\n",
      "60000/60000 [==============================] - 98s 2ms/sample - loss: 0.0446 - val_loss: 0.0336\n",
      "Epoch 2/120\n",
      "60000/60000 [==============================] - 1s 18us/sample - loss: 0.0318 - val_loss: 0.0296\n",
      "Epoch 3/120\n",
      "60000/60000 [==============================] - 1s 18us/sample - loss: 0.0289 - val_loss: 0.0278\n",
      "Epoch 4/120\n",
      "60000/60000 [==============================] - 1s 18us/sample - loss: 0.0275 - val_loss: 0.0267\n",
      "Epoch 5/120\n",
      "60000/60000 [==============================] - 1s 18us/sample - loss: 0.0266 - val_loss: 0.0260\n",
      "Epoch 6/120\n",
      "60000/60000 [==============================] - 1s 18us/sample - loss: 0.0260 - val_loss: 0.0254\n",
      "Epoch 7/120\n",
      "60000/60000 [==============================] - 1s 18us/sample - loss: 0.0254 - val_loss: 0.0250\n",
      "Epoch 8/120\n",
      "60000/60000 [==============================] - 1s 18us/sample - loss: 0.0249 - val_loss: 0.0245\n",
      "Epoch 9/120\n",
      "60000/60000 [==============================] - 1s 18us/sample - loss: 0.0245 - val_loss: 0.0242\n",
      "Epoch 10/120\n",
      "60000/60000 [==============================] - 1s 18us/sample - loss: 0.0242 - val_loss: 0.0238\n",
      "Epoch 11/120\n",
      "60000/60000 [==============================] - 1s 18us/sample - loss: 0.0239 - val_loss: 0.0237\n",
      "Epoch 12/120\n",
      "60000/60000 [==============================] - 1s 18us/sample - loss: 0.0236 - val_loss: 0.0234\n",
      "Epoch 13/120\n",
      "60000/60000 [==============================] - 1s 18us/sample - loss: 0.0234 - val_loss: 0.0231\n",
      "Epoch 14/120\n",
      "60000/60000 [==============================] - 1s 18us/sample - loss: 0.0232 - val_loss: 0.0229\n",
      "Epoch 15/120\n",
      "60000/60000 [==============================] - 1s 18us/sample - loss: 0.0230 - val_loss: 0.0228\n",
      "Epoch 16/120\n",
      "60000/60000 [==============================] - 1s 18us/sample - loss: 0.0228 - val_loss: 0.0225\n",
      "Epoch 17/120\n",
      "60000/60000 [==============================] - 1s 18us/sample - loss: 0.0226 - val_loss: 0.0224\n",
      "Epoch 18/120\n",
      "60000/60000 [==============================] - 1s 18us/sample - loss: 0.0225 - val_loss: 0.0223\n",
      "Epoch 19/120\n",
      "60000/60000 [==============================] - 1s 18us/sample - loss: 0.0223 - val_loss: 0.0222\n",
      "Epoch 20/120\n",
      "60000/60000 [==============================] - 1s 18us/sample - loss: 0.0222 - val_loss: 0.0221\n",
      "Epoch 21/120\n",
      "60000/60000 [==============================] - 1s 18us/sample - loss: 0.0221 - val_loss: 0.0219\n",
      "Epoch 22/120\n",
      "60000/60000 [==============================] - 1s 18us/sample - loss: 0.0219 - val_loss: 0.0217\n",
      "Epoch 23/120\n",
      "60000/60000 [==============================] - 1s 18us/sample - loss: 0.0218 - val_loss: 0.0217\n",
      "Epoch 24/120\n",
      "60000/60000 [==============================] - 1s 18us/sample - loss: 0.0217 - val_loss: 0.0215\n",
      "Epoch 25/120\n",
      "60000/60000 [==============================] - 1s 18us/sample - loss: 0.0216 - val_loss: 0.0215\n",
      "Epoch 26/120\n",
      "60000/60000 [==============================] - 1s 18us/sample - loss: 0.0215 - val_loss: 0.0214\n",
      "Epoch 27/120\n",
      "60000/60000 [==============================] - 1s 18us/sample - loss: 0.0214 - val_loss: 0.0213\n",
      "Epoch 28/120\n",
      "60000/60000 [==============================] - 1s 18us/sample - loss: 0.0214 - val_loss: 0.0212\n",
      "Epoch 29/120\n",
      "60000/60000 [==============================] - 1s 19us/sample - loss: 0.0213 - val_loss: 0.0212\n",
      "Epoch 30/120\n",
      "60000/60000 [==============================] - 1s 18us/sample - loss: 0.0212 - val_loss: 0.0211\n",
      "Epoch 31/120\n",
      "60000/60000 [==============================] - 1s 18us/sample - loss: 0.0211 - val_loss: 0.0211\n",
      "Epoch 32/120\n",
      "60000/60000 [==============================] - 1s 18us/sample - loss: 0.0211 - val_loss: 0.0210\n",
      "Epoch 33/120\n",
      "60000/60000 [==============================] - 1s 18us/sample - loss: 0.0210 - val_loss: 0.0210\n",
      "Epoch 34/120\n",
      "60000/60000 [==============================] - 1s 18us/sample - loss: 0.0209 - val_loss: 0.0209\n",
      "Epoch 35/120\n",
      "60000/60000 [==============================] - 1s 18us/sample - loss: 0.0209 - val_loss: 0.0209\n",
      "Epoch 36/120\n",
      "60000/60000 [==============================] - 1s 19us/sample - loss: 0.0208 - val_loss: 0.0208\n",
      "Epoch 37/120\n",
      "60000/60000 [==============================] - 1s 18us/sample - loss: 0.0207 - val_loss: 0.0207\n",
      "Epoch 38/120\n",
      "60000/60000 [==============================] - 1s 18us/sample - loss: 0.0207 - val_loss: 0.0207\n",
      "Epoch 39/120\n",
      "60000/60000 [==============================] - 1s 18us/sample - loss: 0.0206 - val_loss: 0.0207\n",
      "Epoch 40/120\n",
      "60000/60000 [==============================] - 1s 18us/sample - loss: 0.0206 - val_loss: 0.0206\n",
      "Epoch 41/120\n",
      "60000/60000 [==============================] - 1s 18us/sample - loss: 0.0206 - val_loss: 0.0206\n",
      "Epoch 42/120\n",
      "60000/60000 [==============================] - 1s 18us/sample - loss: 0.0205 - val_loss: 0.0205\n",
      "Epoch 43/120\n",
      "60000/60000 [==============================] - 1s 18us/sample - loss: 0.0205 - val_loss: 0.0206\n",
      "Epoch 44/120\n",
      "60000/60000 [==============================] - 1s 18us/sample - loss: 0.0204 - val_loss: 0.0204\n",
      "Epoch 45/120\n",
      "60000/60000 [==============================] - 1s 18us/sample - loss: 0.0204 - val_loss: 0.0204\n",
      "Epoch 46/120\n",
      "60000/60000 [==============================] - 1s 18us/sample - loss: 0.0203 - val_loss: 0.0204\n",
      "Epoch 47/120\n",
      "60000/60000 [==============================] - 1s 19us/sample - loss: 0.0203 - val_loss: 0.0204\n",
      "Epoch 48/120\n",
      "60000/60000 [==============================] - 1s 19us/sample - loss: 0.0203 - val_loss: 0.0204\n",
      "Epoch 49/120\n",
      "60000/60000 [==============================] - 1s 18us/sample - loss: 0.0202 - val_loss: 0.0203\n",
      "Epoch 50/120\n",
      "60000/60000 [==============================] - 1s 19us/sample - loss: 0.0202 - val_loss: 0.0203\n",
      "Epoch 51/120\n",
      "60000/60000 [==============================] - 1s 18us/sample - loss: 0.0202 - val_loss: 0.0203\n",
      "Epoch 52/120\n",
      "60000/60000 [==============================] - 1s 19us/sample - loss: 0.0201 - val_loss: 0.0202\n",
      "Epoch 53/120\n",
      "60000/60000 [==============================] - 1s 18us/sample - loss: 0.0201 - val_loss: 0.0202\n",
      "Epoch 54/120\n",
      "60000/60000 [==============================] - 1s 19us/sample - loss: 0.0200 - val_loss: 0.0202\n",
      "Epoch 55/120\n",
      "60000/60000 [==============================] - 1s 18us/sample - loss: 0.0200 - val_loss: 0.0201\n",
      "Epoch 56/120\n",
      "60000/60000 [==============================] - 1s 18us/sample - loss: 0.0200 - val_loss: 0.0202\n",
      "Epoch 57/120\n",
      "60000/60000 [==============================] - 1s 18us/sample - loss: 0.0200 - val_loss: 0.0200\n",
      "Epoch 58/120\n",
      "60000/60000 [==============================] - 1s 18us/sample - loss: 0.0199 - val_loss: 0.0201\n",
      "Epoch 59/120\n",
      "60000/60000 [==============================] - 1s 18us/sample - loss: 0.0199 - val_loss: 0.0200\n",
      "Epoch 60/120\n",
      "60000/60000 [==============================] - 1s 18us/sample - loss: 0.0199 - val_loss: 0.0200\n",
      "Epoch 61/120\n",
      "60000/60000 [==============================] - 1s 18us/sample - loss: 0.0198 - val_loss: 0.0200\n",
      "Epoch 62/120\n",
      "60000/60000 [==============================] - 1s 18us/sample - loss: 0.0198 - val_loss: 0.0199\n",
      "Epoch 63/120\n",
      "60000/60000 [==============================] - 1s 18us/sample - loss: 0.0198 - val_loss: 0.0199\n",
      "Epoch 64/120\n",
      "60000/60000 [==============================] - 1s 18us/sample - loss: 0.0197 - val_loss: 0.0200\n",
      "Epoch 65/120\n",
      "60000/60000 [==============================] - 1s 18us/sample - loss: 0.0197 - val_loss: 0.0199\n",
      "Epoch 66/120\n",
      "60000/60000 [==============================] - 1s 18us/sample - loss: 0.0197 - val_loss: 0.0198\n",
      "Epoch 67/120\n",
      "60000/60000 [==============================] - 1s 18us/sample - loss: 0.0197 - val_loss: 0.0198\n",
      "Epoch 68/120\n",
      "60000/60000 [==============================] - 1s 18us/sample - loss: 0.0197 - val_loss: 0.0198\n",
      "Epoch 69/120\n",
      "60000/60000 [==============================] - 1s 18us/sample - loss: 0.0196 - val_loss: 0.0199\n",
      "Epoch 70/120\n",
      "60000/60000 [==============================] - 1s 18us/sample - loss: 0.0196 - val_loss: 0.0198\n",
      "Epoch 71/120\n",
      "60000/60000 [==============================] - 1s 18us/sample - loss: 0.0196 - val_loss: 0.0198\n",
      "Epoch 72/120\n",
      "60000/60000 [==============================] - 1s 18us/sample - loss: 0.0196 - val_loss: 0.0198\n",
      "Epoch 73/120\n",
      "60000/60000 [==============================] - 1s 18us/sample - loss: 0.0195 - val_loss: 0.0198\n",
      "Epoch 74/120\n",
      "60000/60000 [==============================] - 1s 18us/sample - loss: 0.0195 - val_loss: 0.0198\n",
      "Epoch 75/120\n",
      "60000/60000 [==============================] - 1s 18us/sample - loss: 0.0195 - val_loss: 0.0197\n"
     ]
    },
    {
     "name": "stdout",
     "output_type": "stream",
     "text": [
      "Epoch 76/120\n",
      "60000/60000 [==============================] - 1s 18us/sample - loss: 0.0195 - val_loss: 0.0197\n",
      "Epoch 77/120\n",
      "60000/60000 [==============================] - 1s 18us/sample - loss: 0.0195 - val_loss: 0.0196\n",
      "Epoch 78/120\n",
      "60000/60000 [==============================] - 1s 18us/sample - loss: 0.0194 - val_loss: 0.0197\n",
      "Epoch 79/120\n",
      "60000/60000 [==============================] - 1s 18us/sample - loss: 0.0194 - val_loss: 0.0196\n",
      "Epoch 80/120\n",
      "60000/60000 [==============================] - 1s 18us/sample - loss: 0.0194 - val_loss: 0.0196\n",
      "Epoch 81/120\n",
      "60000/60000 [==============================] - 1s 18us/sample - loss: 0.0194 - val_loss: 0.0196\n",
      "Epoch 82/120\n",
      "60000/60000 [==============================] - 1s 18us/sample - loss: 0.0193 - val_loss: 0.0196\n",
      "Epoch 83/120\n",
      "60000/60000 [==============================] - 1s 18us/sample - loss: 0.0194 - val_loss: 0.0196\n",
      "Epoch 84/120\n",
      "60000/60000 [==============================] - 1s 18us/sample - loss: 0.0193 - val_loss: 0.0196\n",
      "Epoch 85/120\n",
      "60000/60000 [==============================] - 1s 18us/sample - loss: 0.0193 - val_loss: 0.0195\n",
      "Epoch 86/120\n",
      "60000/60000 [==============================] - 1s 18us/sample - loss: 0.0193 - val_loss: 0.0195\n",
      "Epoch 87/120\n",
      "60000/60000 [==============================] - 1s 18us/sample - loss: 0.0193 - val_loss: 0.0195\n",
      "Epoch 88/120\n",
      "60000/60000 [==============================] - 1s 18us/sample - loss: 0.0193 - val_loss: 0.0194\n",
      "Epoch 89/120\n",
      "60000/60000 [==============================] - 1s 18us/sample - loss: 0.0192 - val_loss: 0.0195\n",
      "Epoch 90/120\n",
      "60000/60000 [==============================] - 1s 20us/sample - loss: 0.0192 - val_loss: 0.0194\n",
      "Epoch 91/120\n",
      "60000/60000 [==============================] - 1s 19us/sample - loss: 0.0192 - val_loss: 0.0194\n",
      "Epoch 92/120\n",
      "60000/60000 [==============================] - 1s 19us/sample - loss: 0.0192 - val_loss: 0.0194\n",
      "Epoch 93/120\n",
      "60000/60000 [==============================] - 1s 18us/sample - loss: 0.0192 - val_loss: 0.0194\n",
      "Epoch 94/120\n",
      "60000/60000 [==============================] - 1s 18us/sample - loss: 0.0192 - val_loss: 0.0194\n",
      "Epoch 95/120\n",
      "60000/60000 [==============================] - 1s 18us/sample - loss: 0.0191 - val_loss: 0.0193\n",
      "Epoch 96/120\n",
      "60000/60000 [==============================] - 1s 18us/sample - loss: 0.0191 - val_loss: 0.0194\n",
      "Epoch 97/120\n",
      "60000/60000 [==============================] - 1s 18us/sample - loss: 0.0191 - val_loss: 0.0194\n",
      "Epoch 98/120\n",
      "60000/60000 [==============================] - 1s 18us/sample - loss: 0.0191 - val_loss: 0.0194\n",
      "Epoch 99/120\n",
      "60000/60000 [==============================] - 1s 18us/sample - loss: 0.0191 - val_loss: 0.0194\n",
      "Epoch 100/120\n",
      "60000/60000 [==============================] - 1s 18us/sample - loss: 0.0191 - val_loss: 0.0194\n",
      "Epoch 101/120\n",
      "60000/60000 [==============================] - 1s 18us/sample - loss: 0.0190 - val_loss: 0.0193\n",
      "Epoch 102/120\n",
      "60000/60000 [==============================] - 1s 18us/sample - loss: 0.0190 - val_loss: 0.0194\n",
      "Epoch 103/120\n",
      "60000/60000 [==============================] - 1s 18us/sample - loss: 0.0190 - val_loss: 0.0193\n",
      "Epoch 104/120\n",
      "60000/60000 [==============================] - 1s 18us/sample - loss: 0.0190 - val_loss: 0.0194\n",
      "Epoch 105/120\n",
      "60000/60000 [==============================] - 1s 18us/sample - loss: 0.0190 - val_loss: 0.0193\n",
      "Epoch 106/120\n",
      "60000/60000 [==============================] - 1s 18us/sample - loss: 0.0190 - val_loss: 0.0193\n",
      "Epoch 107/120\n",
      "60000/60000 [==============================] - 1s 18us/sample - loss: 0.0190 - val_loss: 0.0193\n",
      "Epoch 108/120\n",
      "60000/60000 [==============================] - 1s 18us/sample - loss: 0.0190 - val_loss: 0.0193\n",
      "Epoch 109/120\n",
      "60000/60000 [==============================] - 1s 18us/sample - loss: 0.0190 - val_loss: 0.0193\n",
      "Epoch 110/120\n",
      "60000/60000 [==============================] - 1s 18us/sample - loss: 0.0189 - val_loss: 0.0193\n",
      "Epoch 111/120\n",
      "60000/60000 [==============================] - 1s 18us/sample - loss: 0.0189 - val_loss: 0.0193\n",
      "Epoch 112/120\n",
      "60000/60000 [==============================] - 1s 18us/sample - loss: 0.0189 - val_loss: 0.0193\n",
      "Epoch 113/120\n",
      "60000/60000 [==============================] - 1s 18us/sample - loss: 0.0189 - val_loss: 0.0193\n",
      "Epoch 114/120\n",
      "60000/60000 [==============================] - 1s 18us/sample - loss: 0.0189 - val_loss: 0.0192\n",
      "Epoch 115/120\n",
      "60000/60000 [==============================] - 1s 18us/sample - loss: 0.0189 - val_loss: 0.0193\n",
      "Epoch 116/120\n",
      "60000/60000 [==============================] - 1s 18us/sample - loss: 0.0188 - val_loss: 0.0192\n",
      "Epoch 117/120\n",
      "60000/60000 [==============================] - 1s 18us/sample - loss: 0.0188 - val_loss: 0.0191\n",
      "Epoch 118/120\n",
      "60000/60000 [==============================] - 1s 18us/sample - loss: 0.0188 - val_loss: 0.0192\n",
      "Epoch 119/120\n",
      "60000/60000 [==============================] - 1s 18us/sample - loss: 0.0188 - val_loss: 0.0192\n",
      "Epoch 120/120\n",
      "60000/60000 [==============================] - 1s 18us/sample - loss: 0.0188 - val_loss: 0.0192\n"
     ]
    },
    {
     "data": {
      "text/plain": [
       "<tensorflow.python.keras.callbacks.History at 0x7f7efc5f57f0>"
      ]
     },
     "execution_count": 9,
     "metadata": {},
     "output_type": "execute_result"
    }
   ],
   "source": [
    "ae.fit(x_train, x_train, epochs=120, batch_size=256, shuffle=True, validation_data=(x_test, x_test))"
   ]
  },
  {
   "cell_type": "code",
   "execution_count": 10,
   "metadata": {},
   "outputs": [],
   "source": [
    "encoded_images = encoder.predict(x_train)\n",
    "decoded_images = decoder.predict(encoded_images)\n",
    "\n",
    "decoded_images_orig = numpy.reshape(decoded_images, newshape=(decoded_images.shape[0], 28, 28))"
   ]
  },
  {
   "cell_type": "code",
   "execution_count": 17,
   "metadata": {},
   "outputs": [],
   "source": [
    "def plot_image(random_number):\n",
    "    num_images_to_show = 1\n",
    "    plt.subplot(num_images_to_show, 2, 1)\n",
    "    plt.imshow(x_train_orig[random_number, :, :], cmap=\"gray\")\n",
    "    plt.subplot(num_images_to_show, 2, 2)\n",
    "    plt.imshow(decoded_images_orig[random_number, :, :], cmap=\"gray\")\n",
    "    print(f\"Original =>{get_size(x_train_orig[random_number, :, :])}\")\n",
    "    print(f\"Encoded =>{get_size(encoded_images[random_number])}\")"
   ]
  },
  {
   "cell_type": "code",
   "execution_count": 16,
   "metadata": {},
   "outputs": [],
   "source": [
    "def generate_image(encoded_image):\n",
    "    num_images_to_show = 1\n",
    "    start = timer()\n",
    "    decoded_image = decoder.predict([encoded_image])\n",
    "    decoded_image_orig = numpy.reshape(decoded_image, newshape=(decoded_image.shape[0], 28, 28))\n",
    "    plt.subplot(num_images_to_show, 2, 1)\n",
    "    plt.imshow(decoded_image_orig[0, :, :], cmap=\"gray\")\n",
    "    end = timer()\n",
    "    print(f\"Time taken to decompress => {end - start} secs\")"
   ]
  },
  {
   "cell_type": "code",
   "execution_count": 18,
   "metadata": {},
   "outputs": [
    {
     "name": "stdout",
     "output_type": "stream",
     "text": [
      "Original =>3136\n",
      "Encoded =>32\n"
     ]
    },
    {
     "data": {
      "image/png": "[encoded data removed]",
      "text/plain": [
       "<Figure size 432x288 with 2 Axes>"
      ]
     },
     "metadata": {
      "needs_background": "light"
     },
     "output_type": "display_data"
    }
   ],
   "source": [
    "plot_image(12)"
   ]
  },
  {
   "cell_type": "code",
   "execution_count": 19,
   "metadata": {},
   "outputs": [
    {
     "name": "stdout",
     "output_type": "stream",
     "text": [
      "Time taken to decompress => 0.02045366000015747 secs\n"
     ]
    },
    {
     "data": {
      "image/png": "[encoded data removed]",
      "text/plain": [
       "<Figure size 432x288 with 1 Axes>"
      ]
     },
     "metadata": {
      "needs_background": "light"
     },
     "output_type": "display_data"
    }
   ],
   "source": [
    "generate_image([encoded_images[215]])"
   ]
  },
  {
   "cell_type": "code",
   "execution_count": 22,
   "metadata": {},
   "outputs": [],
   "source": [
    "ae.save(\"models/mnist-numbers\")"
   ]
  }
 ],
 "metadata": {
  "kernelspec": {
   "display_name": "Environment (conda_tensorflow_p36)",
   "language": "python",
   "name": "conda_tensorflow_p36"
  },
  "language_info": {
   "codemirror_mode": {
    "name": "ipython",
    "version": 3
   },
   "file_extension": ".py",
   "mimetype": "text/x-python",
   "name": "python",
   "nbconvert_exporter": "python",
   "pygments_lexer": "ipython3",
   "version": "3.6.10"
  }
 },
 "nbformat": 4,
 "nbformat_minor": 4
}
